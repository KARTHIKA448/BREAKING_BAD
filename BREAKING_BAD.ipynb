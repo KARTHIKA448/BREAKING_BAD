{
 "cells": [
  {
   "cell_type": "code",
   "execution_count": null,
   "id": "bd710392",
   "metadata": {},
   "outputs": [],
   "source": [
    "import warnings\n",
    "warnings.filterwarnings(\"ignore\")"
   ]
  },
  {
   "cell_type": "code",
   "execution_count": 84,
   "id": "bfa44ae1",
   "metadata": {},
   "outputs": [],
   "source": [
    "import pandas as pd"
   ]
  },
  {
   "cell_type": "code",
   "execution_count": 85,
   "id": "4c61abb2",
   "metadata": {},
   "outputs": [],
   "source": [
    "import matplotlib.pyplot as plt"
   ]
  },
  {
   "cell_type": "code",
   "execution_count": 5,
   "id": "25733a85",
   "metadata": {},
   "outputs": [],
   "source": [
    "import seaborn as sns"
   ]
  },
  {
   "cell_type": "code",
   "execution_count": 46,
   "id": "272bc503",
   "metadata": {},
   "outputs": [
    {
     "data": {
      "text/html": [
       "<div>\n",
       "<style scoped>\n",
       "    .dataframe tbody tr th:only-of-type {\n",
       "        vertical-align: middle;\n",
       "    }\n",
       "\n",
       "    .dataframe tbody tr th {\n",
       "        vertical-align: top;\n",
       "    }\n",
       "\n",
       "    .dataframe thead th {\n",
       "        text-align: right;\n",
       "    }\n",
       "</style>\n",
       "<table border=\"1\" class=\"dataframe\">\n",
       "  <thead>\n",
       "    <tr style=\"text-align: right;\">\n",
       "      <th></th>\n",
       "      <th>Date</th>\n",
       "      <th>Season</th>\n",
       "      <th>Episode</th>\n",
       "      <th>Title</th>\n",
       "      <th>Directed by</th>\n",
       "      <th>Written by</th>\n",
       "      <th>Duration_mins</th>\n",
       "      <th>Summary</th>\n",
       "      <th>Rating_IMDB</th>\n",
       "      <th>U.S. viewers_million</th>\n",
       "    </tr>\n",
       "  </thead>\n",
       "  <tbody>\n",
       "    <tr>\n",
       "      <th>0</th>\n",
       "      <td>20-Jan-08</td>\n",
       "      <td>1</td>\n",
       "      <td>1</td>\n",
       "      <td>Pilot</td>\n",
       "      <td>Vince Gilligan</td>\n",
       "      <td>Vince Gilligan</td>\n",
       "      <td>58</td>\n",
       "      <td>Diagnosed with terminal lung cancer, chemistry...</td>\n",
       "      <td>9.1</td>\n",
       "      <td>1.41</td>\n",
       "    </tr>\n",
       "    <tr>\n",
       "      <th>1</th>\n",
       "      <td>27-Jan-08</td>\n",
       "      <td>1</td>\n",
       "      <td>2</td>\n",
       "      <td>Cat's in the Bag...</td>\n",
       "      <td>Adam Bernstein</td>\n",
       "      <td>Vince Gilligan</td>\n",
       "      <td>48</td>\n",
       "      <td>After their first drug deal goes terribly wron...</td>\n",
       "      <td>8.7</td>\n",
       "      <td>1.49</td>\n",
       "    </tr>\n",
       "    <tr>\n",
       "      <th>2</th>\n",
       "      <td>10-Feb-08</td>\n",
       "      <td>1</td>\n",
       "      <td>3</td>\n",
       "      <td>...And the Bag's in the River</td>\n",
       "      <td>Adam Bernstein</td>\n",
       "      <td>Vince Gilligan</td>\n",
       "      <td>48</td>\n",
       "      <td>Walt and Jesse clean up after the bathtub inci...</td>\n",
       "      <td>8.8</td>\n",
       "      <td>1.08</td>\n",
       "    </tr>\n",
       "    <tr>\n",
       "      <th>3</th>\n",
       "      <td>17-Feb-08</td>\n",
       "      <td>1</td>\n",
       "      <td>4</td>\n",
       "      <td>Cancer Man</td>\n",
       "      <td>Jim McKay</td>\n",
       "      <td>Vince Gilligan</td>\n",
       "      <td>48</td>\n",
       "      <td>Walt tells the rest of his family about his ca...</td>\n",
       "      <td>8.3</td>\n",
       "      <td>1.09</td>\n",
       "    </tr>\n",
       "    <tr>\n",
       "      <th>4</th>\n",
       "      <td>24-Feb-08</td>\n",
       "      <td>1</td>\n",
       "      <td>5</td>\n",
       "      <td>Gray Matter</td>\n",
       "      <td>Tricia Brock</td>\n",
       "      <td>Vince Gilligan, Patty Lin</td>\n",
       "      <td>48</td>\n",
       "      <td>Walt rejects everyone who tries to help him wi...</td>\n",
       "      <td>8.4</td>\n",
       "      <td>0.97</td>\n",
       "    </tr>\n",
       "    <tr>\n",
       "      <th>...</th>\n",
       "      <td>...</td>\n",
       "      <td>...</td>\n",
       "      <td>...</td>\n",
       "      <td>...</td>\n",
       "      <td>...</td>\n",
       "      <td>...</td>\n",
       "      <td>...</td>\n",
       "      <td>...</td>\n",
       "      <td>...</td>\n",
       "      <td>...</td>\n",
       "    </tr>\n",
       "    <tr>\n",
       "      <th>57</th>\n",
       "      <td>01-Sep-13</td>\n",
       "      <td>5</td>\n",
       "      <td>12</td>\n",
       "      <td>Rabid Dog</td>\n",
       "      <td>Sam Catlin</td>\n",
       "      <td>Vince Gilligan, Sam Catlin</td>\n",
       "      <td>48</td>\n",
       "      <td>Walt discovers Jesse broke into his house and ...</td>\n",
       "      <td>9.2</td>\n",
       "      <td>4.41</td>\n",
       "    </tr>\n",
       "    <tr>\n",
       "      <th>58</th>\n",
       "      <td>08-Sep-13</td>\n",
       "      <td>5</td>\n",
       "      <td>13</td>\n",
       "      <td>To'hajiilee</td>\n",
       "      <td>Michelle MacLaren</td>\n",
       "      <td>Vince Gilligan, George Mastras</td>\n",
       "      <td>47</td>\n",
       "      <td>Jesse and Hank come up with an idea to take Wa...</td>\n",
       "      <td>9.8</td>\n",
       "      <td>5.11</td>\n",
       "    </tr>\n",
       "    <tr>\n",
       "      <th>59</th>\n",
       "      <td>15-Sep-13</td>\n",
       "      <td>5</td>\n",
       "      <td>14</td>\n",
       "      <td>Ozymandias</td>\n",
       "      <td>Rian Johnson</td>\n",
       "      <td>Vince Gilligan, Moira Walley-Beckett</td>\n",
       "      <td>48</td>\n",
       "      <td>Walt goes on the run. Jesse is taken hostage. ...</td>\n",
       "      <td>10.0</td>\n",
       "      <td>6.37</td>\n",
       "    </tr>\n",
       "    <tr>\n",
       "      <th>60</th>\n",
       "      <td>22-Sep-13</td>\n",
       "      <td>5</td>\n",
       "      <td>15</td>\n",
       "      <td>Granite State</td>\n",
       "      <td>Peter Gould</td>\n",
       "      <td>Vince Gilligan, Peter Gould</td>\n",
       "      <td>55</td>\n",
       "      <td>Walt struggles as he adapts to aspects of his ...</td>\n",
       "      <td>9.7</td>\n",
       "      <td>6.58</td>\n",
       "    </tr>\n",
       "    <tr>\n",
       "      <th>61</th>\n",
       "      <td>29-Sep-13</td>\n",
       "      <td>5</td>\n",
       "      <td>16</td>\n",
       "      <td>Felina</td>\n",
       "      <td>Vince Gilligan</td>\n",
       "      <td>Vince Gilligan</td>\n",
       "      <td>55</td>\n",
       "      <td>Walter White makes one last attempt to secure ...</td>\n",
       "      <td>9.9</td>\n",
       "      <td>10.28</td>\n",
       "    </tr>\n",
       "  </tbody>\n",
       "</table>\n",
       "<p>62 rows × 10 columns</p>\n",
       "</div>"
      ],
      "text/plain": [
       "         Date  Season  Episode                          Title  \\\n",
       "0   20-Jan-08       1        1                          Pilot   \n",
       "1   27-Jan-08       1        2            Cat's in the Bag...   \n",
       "2   10-Feb-08       1        3  ...And the Bag's in the River   \n",
       "3   17-Feb-08       1        4                     Cancer Man   \n",
       "4   24-Feb-08       1        5                    Gray Matter   \n",
       "..        ...     ...      ...                            ...   \n",
       "57  01-Sep-13       5       12                      Rabid Dog   \n",
       "58  08-Sep-13       5       13                    To'hajiilee   \n",
       "59  15-Sep-13       5       14                     Ozymandias   \n",
       "60  22-Sep-13       5       15                  Granite State   \n",
       "61  29-Sep-13       5       16                         Felina   \n",
       "\n",
       "          Directed by                            Written by  Duration_mins  \\\n",
       "0      Vince Gilligan                        Vince Gilligan             58   \n",
       "1      Adam Bernstein                        Vince Gilligan             48   \n",
       "2      Adam Bernstein                        Vince Gilligan             48   \n",
       "3           Jim McKay                        Vince Gilligan             48   \n",
       "4        Tricia Brock             Vince Gilligan, Patty Lin             48   \n",
       "..                ...                                   ...            ...   \n",
       "57         Sam Catlin            Vince Gilligan, Sam Catlin             48   \n",
       "58  Michelle MacLaren        Vince Gilligan, George Mastras             47   \n",
       "59       Rian Johnson  Vince Gilligan, Moira Walley-Beckett             48   \n",
       "60        Peter Gould           Vince Gilligan, Peter Gould             55   \n",
       "61     Vince Gilligan                        Vince Gilligan             55   \n",
       "\n",
       "                                              Summary  Rating_IMDB  \\\n",
       "0   Diagnosed with terminal lung cancer, chemistry...          9.1   \n",
       "1   After their first drug deal goes terribly wron...          8.7   \n",
       "2   Walt and Jesse clean up after the bathtub inci...          8.8   \n",
       "3   Walt tells the rest of his family about his ca...          8.3   \n",
       "4   Walt rejects everyone who tries to help him wi...          8.4   \n",
       "..                                                ...          ...   \n",
       "57  Walt discovers Jesse broke into his house and ...          9.2   \n",
       "58  Jesse and Hank come up with an idea to take Wa...          9.8   \n",
       "59  Walt goes on the run. Jesse is taken hostage. ...         10.0   \n",
       "60  Walt struggles as he adapts to aspects of his ...          9.7   \n",
       "61  Walter White makes one last attempt to secure ...          9.9   \n",
       "\n",
       "    U.S. viewers_million  \n",
       "0                   1.41  \n",
       "1                   1.49  \n",
       "2                   1.08  \n",
       "3                   1.09  \n",
       "4                   0.97  \n",
       "..                   ...  \n",
       "57                  4.41  \n",
       "58                  5.11  \n",
       "59                  6.37  \n",
       "60                  6.58  \n",
       "61                 10.28  \n",
       "\n",
       "[62 rows x 10 columns]"
      ]
     },
     "execution_count": 46,
     "metadata": {},
     "output_type": "execute_result"
    }
   ],
   "source": [
    "df = pd.read_csv(\"breaking_bad.csv\",encoding=\"latin-1\")\n",
    "df"
   ]
  },
  {
   "cell_type": "code",
   "execution_count": 11,
   "id": "0cea8f95",
   "metadata": {},
   "outputs": [
    {
     "data": {
      "text/plain": [
       "Index(['Date', 'Season', 'Episode', 'Title', 'Directed by', 'Written by',\n",
       "       'Duration_mins', 'Summary', 'Rating_IMDB', 'U.S. viewers_million'],\n",
       "      dtype='object')"
      ]
     },
     "execution_count": 11,
     "metadata": {},
     "output_type": "execute_result"
    }
   ],
   "source": [
    "df.columns"
   ]
  },
  {
   "cell_type": "markdown",
   "id": "2c9953d2",
   "metadata": {},
   "source": [
    "    each columns represent:\n",
    "        * Date: date on which the episode was released or aired\n",
    "        * Season: season number of the episode\n",
    "        * Episode:  episode number within a specific season\n",
    "        * Title: title of the episode\n",
    "        * Directed by:  name of the director who directed the episode\n",
    "        * Written by: name of the writer or writers who wrote the script for the episode\n",
    "        * Duration_mins: duration of the episode in minutes. It provides length of each episode.\n",
    "        * Summary: brief summary or synopsis of the episode\n",
    "        * Rating_IMDB: IMDb (Internet Movie Database) rating of the episode\n",
    "        * U.S. viewers_million: the number of viewers in the United States who watched the episode during its original airing, measured in millions"
   ]
  },
  {
   "cell_type": "code",
   "execution_count": 12,
   "id": "7c8514c8",
   "metadata": {},
   "outputs": [
    {
     "data": {
      "text/plain": [
       "(62, 10)"
      ]
     },
     "execution_count": 12,
     "metadata": {},
     "output_type": "execute_result"
    }
   ],
   "source": [
    "df.shape "
   ]
  },
  {
   "cell_type": "code",
   "execution_count": 13,
   "id": "48bf5daf",
   "metadata": {},
   "outputs": [
    {
     "data": {
      "text/plain": [
       "620"
      ]
     },
     "execution_count": 13,
     "metadata": {},
     "output_type": "execute_result"
    }
   ],
   "source": [
    "df.size"
   ]
  },
  {
   "cell_type": "code",
   "execution_count": 14,
   "id": "500898bd",
   "metadata": {},
   "outputs": [],
   "source": [
    "# there are 62 rows and 10 columns with 620 elements"
   ]
  },
  {
   "cell_type": "code",
   "execution_count": 15,
   "id": "a5d85c08",
   "metadata": {},
   "outputs": [
    {
     "data": {
      "text/plain": [
       "Date                    62\n",
       "Season                  62\n",
       "Episode                 62\n",
       "Title                   62\n",
       "Directed by             62\n",
       "Written by              62\n",
       "Duration_mins           62\n",
       "Summary                 62\n",
       "Rating_IMDB             62\n",
       "U.S. viewers_million    57\n",
       "dtype: int64"
      ]
     },
     "execution_count": 15,
     "metadata": {},
     "output_type": "execute_result"
    }
   ],
   "source": [
    "df.count() # non-null values"
   ]
  },
  {
   "cell_type": "code",
   "execution_count": 17,
   "id": "d86fc0f1",
   "metadata": {},
   "outputs": [
    {
     "data": {
      "text/plain": [
       "Date                    0\n",
       "Season                  0\n",
       "Episode                 0\n",
       "Title                   0\n",
       "Directed by             0\n",
       "Written by              0\n",
       "Duration_mins           0\n",
       "Summary                 0\n",
       "Rating_IMDB             0\n",
       "U.S. viewers_million    5\n",
       "dtype: int64"
      ]
     },
     "execution_count": 17,
     "metadata": {},
     "output_type": "execute_result"
    }
   ],
   "source": [
    "df.isnull().sum() # null values,there are 5 null value in the \"U.S. viewers_million\" column "
   ]
  },
  {
   "cell_type": "code",
   "execution_count": 18,
   "id": "ee2f3bd8",
   "metadata": {},
   "outputs": [],
   "source": [
    "df[\"U.S. viewers_million\"].fillna(df[\"U.S. viewers_million\"].mode()[0],inplace=True)\n",
    "# to fill null value in the \"U.S. viewers_million\" column "
   ]
  },
  {
   "cell_type": "code",
   "execution_count": 20,
   "id": "0caaae82",
   "metadata": {},
   "outputs": [
    {
     "data": {
      "text/plain": [
       "Date                    0\n",
       "Season                  0\n",
       "Episode                 0\n",
       "Title                   0\n",
       "Directed by             0\n",
       "Written by              0\n",
       "Duration_mins           0\n",
       "Summary                 0\n",
       "Rating_IMDB             0\n",
       "U.S. viewers_million    0\n",
       "dtype: int64"
      ]
     },
     "execution_count": 20,
     "metadata": {},
     "output_type": "execute_result"
    }
   ],
   "source": [
    "df.isnull().sum() # now there is no null values"
   ]
  },
  {
   "cell_type": "code",
   "execution_count": 21,
   "id": "d1f1870e",
   "metadata": {
    "scrolled": true
   },
   "outputs": [
    {
     "data": {
      "text/html": [
       "<div>\n",
       "<style scoped>\n",
       "    .dataframe tbody tr th:only-of-type {\n",
       "        vertical-align: middle;\n",
       "    }\n",
       "\n",
       "    .dataframe tbody tr th {\n",
       "        vertical-align: top;\n",
       "    }\n",
       "\n",
       "    .dataframe thead th {\n",
       "        text-align: right;\n",
       "    }\n",
       "</style>\n",
       "<table border=\"1\" class=\"dataframe\">\n",
       "  <thead>\n",
       "    <tr style=\"text-align: right;\">\n",
       "      <th></th>\n",
       "      <th>Date</th>\n",
       "      <th>Season</th>\n",
       "      <th>Episode</th>\n",
       "      <th>Title</th>\n",
       "      <th>Directed by</th>\n",
       "      <th>Written by</th>\n",
       "      <th>Duration_mins</th>\n",
       "      <th>Summary</th>\n",
       "      <th>Rating_IMDB</th>\n",
       "      <th>U.S. viewers_million</th>\n",
       "    </tr>\n",
       "  </thead>\n",
       "  <tbody>\n",
       "    <tr>\n",
       "      <th>0</th>\n",
       "      <td>20-Jan-08</td>\n",
       "      <td>1</td>\n",
       "      <td>1</td>\n",
       "      <td>Pilot</td>\n",
       "      <td>Vince Gilligan</td>\n",
       "      <td>Vince Gilligan</td>\n",
       "      <td>58</td>\n",
       "      <td>Diagnosed with terminal lung cancer, chemistry...</td>\n",
       "      <td>9.1</td>\n",
       "      <td>1.41</td>\n",
       "    </tr>\n",
       "    <tr>\n",
       "      <th>1</th>\n",
       "      <td>27-Jan-08</td>\n",
       "      <td>1</td>\n",
       "      <td>2</td>\n",
       "      <td>Cat's in the Bag...</td>\n",
       "      <td>Adam Bernstein</td>\n",
       "      <td>Vince Gilligan</td>\n",
       "      <td>48</td>\n",
       "      <td>After their first drug deal goes terribly wron...</td>\n",
       "      <td>8.7</td>\n",
       "      <td>1.49</td>\n",
       "    </tr>\n",
       "    <tr>\n",
       "      <th>2</th>\n",
       "      <td>10-Feb-08</td>\n",
       "      <td>1</td>\n",
       "      <td>3</td>\n",
       "      <td>...And the Bag's in the River</td>\n",
       "      <td>Adam Bernstein</td>\n",
       "      <td>Vince Gilligan</td>\n",
       "      <td>48</td>\n",
       "      <td>Walt and Jesse clean up after the bathtub inci...</td>\n",
       "      <td>8.8</td>\n",
       "      <td>1.08</td>\n",
       "    </tr>\n",
       "    <tr>\n",
       "      <th>3</th>\n",
       "      <td>17-Feb-08</td>\n",
       "      <td>1</td>\n",
       "      <td>4</td>\n",
       "      <td>Cancer Man</td>\n",
       "      <td>Jim McKay</td>\n",
       "      <td>Vince Gilligan</td>\n",
       "      <td>48</td>\n",
       "      <td>Walt tells the rest of his family about his ca...</td>\n",
       "      <td>8.3</td>\n",
       "      <td>1.09</td>\n",
       "    </tr>\n",
       "    <tr>\n",
       "      <th>4</th>\n",
       "      <td>24-Feb-08</td>\n",
       "      <td>1</td>\n",
       "      <td>5</td>\n",
       "      <td>Gray Matter</td>\n",
       "      <td>Tricia Brock</td>\n",
       "      <td>Vince Gilligan, Patty Lin</td>\n",
       "      <td>48</td>\n",
       "      <td>Walt rejects everyone who tries to help him wi...</td>\n",
       "      <td>8.4</td>\n",
       "      <td>0.97</td>\n",
       "    </tr>\n",
       "  </tbody>\n",
       "</table>\n",
       "</div>"
      ],
      "text/plain": [
       "        Date  Season  Episode                          Title     Directed by  \\\n",
       "0  20-Jan-08       1        1                          Pilot  Vince Gilligan   \n",
       "1  27-Jan-08       1        2            Cat's in the Bag...  Adam Bernstein   \n",
       "2  10-Feb-08       1        3  ...And the Bag's in the River  Adam Bernstein   \n",
       "3  17-Feb-08       1        4                     Cancer Man       Jim McKay   \n",
       "4  24-Feb-08       1        5                    Gray Matter    Tricia Brock   \n",
       "\n",
       "                  Written by  Duration_mins  \\\n",
       "0             Vince Gilligan             58   \n",
       "1             Vince Gilligan             48   \n",
       "2             Vince Gilligan             48   \n",
       "3             Vince Gilligan             48   \n",
       "4  Vince Gilligan, Patty Lin             48   \n",
       "\n",
       "                                             Summary  Rating_IMDB  \\\n",
       "0  Diagnosed with terminal lung cancer, chemistry...          9.1   \n",
       "1  After their first drug deal goes terribly wron...          8.7   \n",
       "2  Walt and Jesse clean up after the bathtub inci...          8.8   \n",
       "3  Walt tells the rest of his family about his ca...          8.3   \n",
       "4  Walt rejects everyone who tries to help him wi...          8.4   \n",
       "\n",
       "   U.S. viewers_million  \n",
       "0                  1.41  \n",
       "1                  1.49  \n",
       "2                  1.08  \n",
       "3                  1.09  \n",
       "4                  0.97  "
      ]
     },
     "execution_count": 21,
     "metadata": {},
     "output_type": "execute_result"
    }
   ],
   "source": [
    "df.head() # now we get an idea about each column in the dataset"
   ]
  },
  {
   "cell_type": "code",
   "execution_count": 23,
   "id": "6836e279",
   "metadata": {},
   "outputs": [
    {
     "data": {
      "text/plain": [
       "5"
      ]
     },
     "execution_count": 23,
     "metadata": {},
     "output_type": "execute_result"
    }
   ],
   "source": [
    "df[\"Season\"].nunique() # there are 5 seasons in the series \"BREAKING BAD\""
   ]
  },
  {
   "cell_type": "code",
   "execution_count": 24,
   "id": "de0ab50e",
   "metadata": {},
   "outputs": [
    {
     "data": {
      "text/plain": [
       "array([1, 2, 3, 4, 5], dtype=int64)"
      ]
     },
     "execution_count": 24,
     "metadata": {},
     "output_type": "execute_result"
    }
   ],
   "source": [
    "df[\"Season\"].unique() "
   ]
  },
  {
   "cell_type": "code",
   "execution_count": 25,
   "id": "e59b5878",
   "metadata": {},
   "outputs": [],
   "source": [
    "season_grp = df.groupby(\"Season\")"
   ]
  },
  {
   "cell_type": "code",
   "execution_count": 26,
   "id": "6af88036",
   "metadata": {},
   "outputs": [
    {
     "data": {
      "text/plain": [
       "Season\n",
       "1     7\n",
       "2    13\n",
       "3    13\n",
       "4    13\n",
       "5    16\n",
       "Name: Episode, dtype: int64"
      ]
     },
     "execution_count": 26,
     "metadata": {},
     "output_type": "execute_result"
    }
   ],
   "source": [
    "season_grp[\"Episode\"].max()"
   ]
  },
  {
   "cell_type": "markdown",
   "id": "d27c197c",
   "metadata": {},
   "source": [
    "    -here shows that the number of episodes in each season,\n",
    "        1 - 7\n",
    "        2 - 13\n",
    "        3 - 13\n",
    "        4 - 13\n",
    "        5 - 16"
   ]
  },
  {
   "cell_type": "code",
   "execution_count": 58,
   "id": "7d86aa7d",
   "metadata": {},
   "outputs": [
    {
     "data": {
      "text/html": [
       "<div>\n",
       "<style scoped>\n",
       "    .dataframe tbody tr th:only-of-type {\n",
       "        vertical-align: middle;\n",
       "    }\n",
       "\n",
       "    .dataframe tbody tr th {\n",
       "        vertical-align: top;\n",
       "    }\n",
       "\n",
       "    .dataframe thead th {\n",
       "        text-align: right;\n",
       "    }\n",
       "</style>\n",
       "<table border=\"1\" class=\"dataframe\">\n",
       "  <thead>\n",
       "    <tr style=\"text-align: right;\">\n",
       "      <th></th>\n",
       "      <th>Rating_IMDB</th>\n",
       "      <th>Episode</th>\n",
       "    </tr>\n",
       "    <tr>\n",
       "      <th>Season</th>\n",
       "      <th></th>\n",
       "      <th></th>\n",
       "    </tr>\n",
       "  </thead>\n",
       "  <tbody>\n",
       "    <tr>\n",
       "      <th>1</th>\n",
       "      <td>9.3</td>\n",
       "      <td>7</td>\n",
       "    </tr>\n",
       "    <tr>\n",
       "      <th>2</th>\n",
       "      <td>9.3</td>\n",
       "      <td>13</td>\n",
       "    </tr>\n",
       "    <tr>\n",
       "      <th>3</th>\n",
       "      <td>9.7</td>\n",
       "      <td>13</td>\n",
       "    </tr>\n",
       "    <tr>\n",
       "      <th>4</th>\n",
       "      <td>9.9</td>\n",
       "      <td>13</td>\n",
       "    </tr>\n",
       "    <tr>\n",
       "      <th>5</th>\n",
       "      <td>10.0</td>\n",
       "      <td>16</td>\n",
       "    </tr>\n",
       "  </tbody>\n",
       "</table>\n",
       "</div>"
      ],
      "text/plain": [
       "        Rating_IMDB  Episode\n",
       "Season                      \n",
       "1               9.3        7\n",
       "2               9.3       13\n",
       "3               9.7       13\n",
       "4               9.9       13\n",
       "5              10.0       16"
      ]
     },
     "execution_count": 58,
     "metadata": {},
     "output_type": "execute_result"
    }
   ],
   "source": [
    "season_grp[\"Rating_IMDB\",\"Episode\"].max() \n",
    "# here shows that the max rated episode in each season"
   ]
  },
  {
   "cell_type": "code",
   "execution_count": 63,
   "id": "b2fc82b6",
   "metadata": {},
   "outputs": [
    {
     "data": {
      "text/plain": [
       "59    10.0\n",
       "45     9.9\n",
       "61     9.9\n",
       "58     9.8\n",
       "32     9.7\n",
       "Name: Rating_IMDB, dtype: float64"
      ]
     },
     "execution_count": 63,
     "metadata": {},
     "output_type": "execute_result"
    }
   ],
   "source": [
    "df[\"Rating_IMDB\"].nlargest()\n",
    "#biggest rating"
   ]
  },
  {
   "cell_type": "code",
   "execution_count": 64,
   "id": "b6fb4c5f",
   "metadata": {},
   "outputs": [
    {
     "data": {
      "text/plain": [
       "29    7.8\n",
       "35    8.1\n",
       "3     8.3\n",
       "10    8.3\n",
       "23    8.3\n",
       "Name: Rating_IMDB, dtype: float64"
      ]
     },
     "execution_count": 64,
     "metadata": {},
     "output_type": "execute_result"
    }
   ],
   "source": [
    "df[\"Rating_IMDB\"].nsmallest()\n",
    "#the least ratings"
   ]
  },
  {
   "cell_type": "code",
   "execution_count": 30,
   "id": "dc911384",
   "metadata": {},
   "outputs": [
    {
     "data": {
      "text/html": [
       "<div>\n",
       "<style scoped>\n",
       "    .dataframe tbody tr th:only-of-type {\n",
       "        vertical-align: middle;\n",
       "    }\n",
       "\n",
       "    .dataframe tbody tr th {\n",
       "        vertical-align: top;\n",
       "    }\n",
       "\n",
       "    .dataframe thead th {\n",
       "        text-align: right;\n",
       "    }\n",
       "</style>\n",
       "<table border=\"1\" class=\"dataframe\">\n",
       "  <thead>\n",
       "    <tr style=\"text-align: right;\">\n",
       "      <th></th>\n",
       "      <th>U.S. viewers_million</th>\n",
       "      <th>Episode</th>\n",
       "    </tr>\n",
       "    <tr>\n",
       "      <th>Season</th>\n",
       "      <th></th>\n",
       "      <th></th>\n",
       "    </tr>\n",
       "  </thead>\n",
       "  <tbody>\n",
       "    <tr>\n",
       "      <th>1</th>\n",
       "      <td>1.50</td>\n",
       "      <td>7</td>\n",
       "    </tr>\n",
       "    <tr>\n",
       "      <th>2</th>\n",
       "      <td>1.66</td>\n",
       "      <td>13</td>\n",
       "    </tr>\n",
       "    <tr>\n",
       "      <th>3</th>\n",
       "      <td>1.95</td>\n",
       "      <td>13</td>\n",
       "    </tr>\n",
       "    <tr>\n",
       "      <th>4</th>\n",
       "      <td>2.58</td>\n",
       "      <td>13</td>\n",
       "    </tr>\n",
       "    <tr>\n",
       "      <th>5</th>\n",
       "      <td>10.28</td>\n",
       "      <td>16</td>\n",
       "    </tr>\n",
       "  </tbody>\n",
       "</table>\n",
       "</div>"
      ],
      "text/plain": [
       "        U.S. viewers_million  Episode\n",
       "Season                               \n",
       "1                       1.50        7\n",
       "2                       1.66       13\n",
       "3                       1.95       13\n",
       "4                       2.58       13\n",
       "5                      10.28       16"
      ]
     },
     "execution_count": 30,
     "metadata": {},
     "output_type": "execute_result"
    }
   ],
   "source": [
    "season_grp[[\"U.S. viewers_million\",\"Episode\"]].max()\n",
    "# here shows that the max viewed episode in each season"
   ]
  },
  {
   "cell_type": "code",
   "execution_count": null,
   "id": "0e695350",
   "metadata": {},
   "outputs": [],
   "source": [
    "# that is increase in \"U.S. viewers_million\" indicates high ratings"
   ]
  },
  {
   "cell_type": "code",
   "execution_count": 67,
   "id": "08465a85",
   "metadata": {},
   "outputs": [
    {
     "data": {
      "text/plain": [
       "61    10.28\n",
       "60     6.58\n",
       "59     6.37\n",
       "54     5.92\n",
       "58     5.11\n",
       "Name: U.S. viewers_million, dtype: float64"
      ]
     },
     "execution_count": 67,
     "metadata": {},
     "output_type": "execute_result"
    }
   ],
   "source": [
    "df[\"U.S. viewers_million\"].nlargest()\n",
    "#the large number of viewers"
   ]
  },
  {
   "cell_type": "code",
   "execution_count": 68,
   "id": "75773bef",
   "metadata": {},
   "outputs": [
    {
     "data": {
      "text/plain": [
       "4     0.97\n",
       "14    1.04\n",
       "5     1.07\n",
       "2     1.08\n",
       "3     1.09\n",
       "Name: U.S. viewers_million, dtype: float64"
      ]
     },
     "execution_count": 68,
     "metadata": {},
     "output_type": "execute_result"
    }
   ],
   "source": [
    "df[\"U.S. viewers_million\"].nsmallest()\n",
    "#the small number of viewers"
   ]
  },
  {
   "cell_type": "code",
   "execution_count": 33,
   "id": "3bccca57",
   "metadata": {},
   "outputs": [
    {
     "data": {
      "text/html": [
       "<div>\n",
       "<style scoped>\n",
       "    .dataframe tbody tr th:only-of-type {\n",
       "        vertical-align: middle;\n",
       "    }\n",
       "\n",
       "    .dataframe tbody tr th {\n",
       "        vertical-align: top;\n",
       "    }\n",
       "\n",
       "    .dataframe thead th {\n",
       "        text-align: right;\n",
       "    }\n",
       "</style>\n",
       "<table border=\"1\" class=\"dataframe\">\n",
       "  <thead>\n",
       "    <tr style=\"text-align: right;\">\n",
       "      <th></th>\n",
       "      <th>Duration_mins</th>\n",
       "      <th>Episode</th>\n",
       "    </tr>\n",
       "    <tr>\n",
       "      <th>Season</th>\n",
       "      <th></th>\n",
       "      <th></th>\n",
       "    </tr>\n",
       "  </thead>\n",
       "  <tbody>\n",
       "    <tr>\n",
       "      <th>1</th>\n",
       "      <td>58</td>\n",
       "      <td>7</td>\n",
       "    </tr>\n",
       "    <tr>\n",
       "      <th>2</th>\n",
       "      <td>48</td>\n",
       "      <td>13</td>\n",
       "    </tr>\n",
       "    <tr>\n",
       "      <th>3</th>\n",
       "      <td>47</td>\n",
       "      <td>13</td>\n",
       "    </tr>\n",
       "    <tr>\n",
       "      <th>4</th>\n",
       "      <td>60</td>\n",
       "      <td>13</td>\n",
       "    </tr>\n",
       "    <tr>\n",
       "      <th>5</th>\n",
       "      <td>55</td>\n",
       "      <td>16</td>\n",
       "    </tr>\n",
       "  </tbody>\n",
       "</table>\n",
       "</div>"
      ],
      "text/plain": [
       "        Duration_mins  Episode\n",
       "Season                        \n",
       "1                  58        7\n",
       "2                  48       13\n",
       "3                  47       13\n",
       "4                  60       13\n",
       "5                  55       16"
      ]
     },
     "execution_count": 33,
     "metadata": {},
     "output_type": "execute_result"
    }
   ],
   "source": [
    "season_grp[[\"Duration_mins\",\"Episode\"]].max()"
   ]
  },
  {
   "cell_type": "code",
   "execution_count": 37,
   "id": "13b38dd7",
   "metadata": {},
   "outputs": [
    {
     "data": {
      "text/html": [
       "<div>\n",
       "<style scoped>\n",
       "    .dataframe tbody tr th:only-of-type {\n",
       "        vertical-align: middle;\n",
       "    }\n",
       "\n",
       "    .dataframe tbody tr th {\n",
       "        vertical-align: top;\n",
       "    }\n",
       "\n",
       "    .dataframe thead th {\n",
       "        text-align: right;\n",
       "    }\n",
       "</style>\n",
       "<table border=\"1\" class=\"dataframe\">\n",
       "  <thead>\n",
       "    <tr style=\"text-align: right;\">\n",
       "      <th></th>\n",
       "      <th>Duration_mins</th>\n",
       "    </tr>\n",
       "    <tr>\n",
       "      <th>Season</th>\n",
       "      <th></th>\n",
       "    </tr>\n",
       "  </thead>\n",
       "  <tbody>\n",
       "    <tr>\n",
       "      <th>1</th>\n",
       "      <td>346</td>\n",
       "    </tr>\n",
       "    <tr>\n",
       "      <th>2</th>\n",
       "      <td>611</td>\n",
       "    </tr>\n",
       "    <tr>\n",
       "      <th>3</th>\n",
       "      <td>611</td>\n",
       "    </tr>\n",
       "    <tr>\n",
       "      <th>4</th>\n",
       "      <td>627</td>\n",
       "    </tr>\n",
       "    <tr>\n",
       "      <th>5</th>\n",
       "      <td>776</td>\n",
       "    </tr>\n",
       "  </tbody>\n",
       "</table>\n",
       "</div>"
      ],
      "text/plain": [
       "        Duration_mins\n",
       "Season               \n",
       "1                 346\n",
       "2                 611\n",
       "3                 611\n",
       "4                 627\n",
       "5                 776"
      ]
     },
     "execution_count": 37,
     "metadata": {},
     "output_type": "execute_result"
    }
   ],
   "source": [
    "df[[\"Season\",\"Duration_mins\"]].groupby(\"Season\").sum()\n",
    "#total watch time in each series is given"
   ]
  },
  {
   "cell_type": "code",
   "execution_count": 31,
   "id": "02111272",
   "metadata": {},
   "outputs": [
    {
     "data": {
      "text/plain": [
       "25"
      ]
     },
     "execution_count": 31,
     "metadata": {},
     "output_type": "execute_result"
    }
   ],
   "source": [
    "df[\"Directed by\"].nunique()\n",
    "# the series has been directed by 25 different directors"
   ]
  },
  {
   "cell_type": "code",
   "execution_count": 32,
   "id": "4c3506f9",
   "metadata": {},
   "outputs": [
    {
     "data": {
      "text/plain": [
       "array(['Vince Gilligan', 'Adam Bernstein', 'Jim McKay', 'Tricia Brock',\n",
       "       'Bronwen Hughes', 'Tim Hunter', 'Bryan Cranston', 'Charles Haid',\n",
       "       'Terry McDonough', 'John Dahl', 'Johan Renck', 'Peter Medak',\n",
       "       'Félix Enríquez Alcalá', 'Michelle MacLaren', 'Phil Abraham',\n",
       "       'Colin Bucksey', 'Scott Winant', 'John Shiban', 'Michael Slovis',\n",
       "       'Rian Johnson', 'David Slade', 'Peter Gould', 'George Mastras',\n",
       "       'Thomas Schnauz', 'Sam Catlin'], dtype=object)"
      ]
     },
     "execution_count": 32,
     "metadata": {},
     "output_type": "execute_result"
    }
   ],
   "source": [
    "df[\"Directed by\"].unique()\n",
    "# list of directors"
   ]
  },
  {
   "cell_type": "code",
   "execution_count": 42,
   "id": "e4c55b31",
   "metadata": {
    "scrolled": true
   },
   "outputs": [
    {
     "data": {
      "text/html": [
       "<div>\n",
       "<style scoped>\n",
       "    .dataframe tbody tr th:only-of-type {\n",
       "        vertical-align: middle;\n",
       "    }\n",
       "\n",
       "    .dataframe tbody tr th {\n",
       "        vertical-align: top;\n",
       "    }\n",
       "\n",
       "    .dataframe thead th {\n",
       "        text-align: right;\n",
       "    }\n",
       "</style>\n",
       "<table border=\"1\" class=\"dataframe\">\n",
       "  <thead>\n",
       "    <tr style=\"text-align: right;\">\n",
       "      <th></th>\n",
       "      <th>Episode</th>\n",
       "    </tr>\n",
       "    <tr>\n",
       "      <th>Directed by</th>\n",
       "      <th></th>\n",
       "    </tr>\n",
       "  </thead>\n",
       "  <tbody>\n",
       "    <tr>\n",
       "      <th>Adam Bernstein</th>\n",
       "      <td>8</td>\n",
       "    </tr>\n",
       "    <tr>\n",
       "      <th>Bronwen Hughes</th>\n",
       "      <td>1</td>\n",
       "    </tr>\n",
       "    <tr>\n",
       "      <th>Bryan Cranston</th>\n",
       "      <td>3</td>\n",
       "    </tr>\n",
       "    <tr>\n",
       "      <th>Charles Haid</th>\n",
       "      <td>1</td>\n",
       "    </tr>\n",
       "    <tr>\n",
       "      <th>Colin Bucksey</th>\n",
       "      <td>4</td>\n",
       "    </tr>\n",
       "    <tr>\n",
       "      <th>David Slade</th>\n",
       "      <td>1</td>\n",
       "    </tr>\n",
       "    <tr>\n",
       "      <th>Félix Enríquez Alcalá</th>\n",
       "      <td>1</td>\n",
       "    </tr>\n",
       "    <tr>\n",
       "      <th>George Mastras</th>\n",
       "      <td>1</td>\n",
       "    </tr>\n",
       "    <tr>\n",
       "      <th>Jim McKay</th>\n",
       "      <td>1</td>\n",
       "    </tr>\n",
       "    <tr>\n",
       "      <th>Johan Renck</th>\n",
       "      <td>3</td>\n",
       "    </tr>\n",
       "    <tr>\n",
       "      <th>John Dahl</th>\n",
       "      <td>1</td>\n",
       "    </tr>\n",
       "    <tr>\n",
       "      <th>John Shiban</th>\n",
       "      <td>1</td>\n",
       "    </tr>\n",
       "    <tr>\n",
       "      <th>Michael Slovis</th>\n",
       "      <td>4</td>\n",
       "    </tr>\n",
       "    <tr>\n",
       "      <th>Michelle MacLaren</th>\n",
       "      <td>11</td>\n",
       "    </tr>\n",
       "    <tr>\n",
       "      <th>Peter Gould</th>\n",
       "      <td>2</td>\n",
       "    </tr>\n",
       "    <tr>\n",
       "      <th>Peter Medak</th>\n",
       "      <td>1</td>\n",
       "    </tr>\n",
       "    <tr>\n",
       "      <th>Phil Abraham</th>\n",
       "      <td>1</td>\n",
       "    </tr>\n",
       "    <tr>\n",
       "      <th>Rian Johnson</th>\n",
       "      <td>3</td>\n",
       "    </tr>\n",
       "    <tr>\n",
       "      <th>Sam Catlin</th>\n",
       "      <td>1</td>\n",
       "    </tr>\n",
       "    <tr>\n",
       "      <th>Scott Winant</th>\n",
       "      <td>2</td>\n",
       "    </tr>\n",
       "    <tr>\n",
       "      <th>Terry McDonough</th>\n",
       "      <td>3</td>\n",
       "    </tr>\n",
       "    <tr>\n",
       "      <th>Thomas Schnauz</th>\n",
       "      <td>1</td>\n",
       "    </tr>\n",
       "    <tr>\n",
       "      <th>Tim Hunter</th>\n",
       "      <td>1</td>\n",
       "    </tr>\n",
       "    <tr>\n",
       "      <th>Tricia Brock</th>\n",
       "      <td>1</td>\n",
       "    </tr>\n",
       "    <tr>\n",
       "      <th>Vince Gilligan</th>\n",
       "      <td>5</td>\n",
       "    </tr>\n",
       "  </tbody>\n",
       "</table>\n",
       "</div>"
      ],
      "text/plain": [
       "                       Episode\n",
       "Directed by                   \n",
       "Adam Bernstein               8\n",
       "Bronwen Hughes               1\n",
       "Bryan Cranston               3\n",
       "Charles Haid                 1\n",
       "Colin Bucksey                4\n",
       "David Slade                  1\n",
       "Félix Enríquez Alcalá        1\n",
       "George Mastras               1\n",
       "Jim McKay                    1\n",
       "Johan Renck                  3\n",
       "John Dahl                    1\n",
       "John Shiban                  1\n",
       "Michael Slovis               4\n",
       "Michelle MacLaren           11\n",
       "Peter Gould                  2\n",
       "Peter Medak                  1\n",
       "Phil Abraham                 1\n",
       "Rian Johnson                 3\n",
       "Sam Catlin                   1\n",
       "Scott Winant                 2\n",
       "Terry McDonough              3\n",
       "Thomas Schnauz               1\n",
       "Tim Hunter                   1\n",
       "Tricia Brock                 1\n",
       "Vince Gilligan               5"
      ]
     },
     "execution_count": 42,
     "metadata": {},
     "output_type": "execute_result"
    }
   ],
   "source": [
    "df[[\"Episode\",\"Directed by\"]].groupby(\"Directed by\").count()\n",
    "# list of directors with episodes each have directed"
   ]
  },
  {
   "cell_type": "code",
   "execution_count": 44,
   "id": "4c04be38",
   "metadata": {},
   "outputs": [
    {
     "data": {
      "text/html": [
       "<div>\n",
       "<style scoped>\n",
       "    .dataframe tbody tr th:only-of-type {\n",
       "        vertical-align: middle;\n",
       "    }\n",
       "\n",
       "    .dataframe tbody tr th {\n",
       "        vertical-align: top;\n",
       "    }\n",
       "\n",
       "    .dataframe thead th {\n",
       "        text-align: right;\n",
       "    }\n",
       "</style>\n",
       "<table border=\"1\" class=\"dataframe\">\n",
       "  <thead>\n",
       "    <tr style=\"text-align: right;\">\n",
       "      <th></th>\n",
       "      <th>Date</th>\n",
       "      <th>Season</th>\n",
       "      <th>Episode</th>\n",
       "      <th>Title</th>\n",
       "      <th>Directed by</th>\n",
       "      <th>Written by</th>\n",
       "      <th>Duration_mins</th>\n",
       "      <th>Summary</th>\n",
       "      <th>Rating_IMDB</th>\n",
       "      <th>U.S. viewers_million</th>\n",
       "    </tr>\n",
       "  </thead>\n",
       "  <tbody>\n",
       "    <tr>\n",
       "      <th>59</th>\n",
       "      <td>15-Sep-13</td>\n",
       "      <td>5</td>\n",
       "      <td>14</td>\n",
       "      <td>Ozymandias</td>\n",
       "      <td>Rian Johnson</td>\n",
       "      <td>Vince Gilligan, Moira Walley-Beckett</td>\n",
       "      <td>48</td>\n",
       "      <td>Walt goes on the run. Jesse is taken hostage. ...</td>\n",
       "      <td>10.0</td>\n",
       "      <td>6.37</td>\n",
       "    </tr>\n",
       "  </tbody>\n",
       "</table>\n",
       "</div>"
      ],
      "text/plain": [
       "         Date  Season  Episode       Title   Directed by  \\\n",
       "59  15-Sep-13       5       14  Ozymandias  Rian Johnson   \n",
       "\n",
       "                              Written by  Duration_mins  \\\n",
       "59  Vince Gilligan, Moira Walley-Beckett             48   \n",
       "\n",
       "                                              Summary  Rating_IMDB  \\\n",
       "59  Walt goes on the run. Jesse is taken hostage. ...         10.0   \n",
       "\n",
       "    U.S. viewers_million  \n",
       "59                  6.37  "
      ]
     },
     "execution_count": 44,
     "metadata": {},
     "output_type": "execute_result"
    }
   ],
   "source": [
    "df[df[\"Rating_IMDB\"]==10]\n",
    "#the episode with the 10 stars 14th episode in 5th season,which is the high rated episode"
   ]
  },
  {
   "cell_type": "code",
   "execution_count": 47,
   "id": "0d25e0ff",
   "metadata": {},
   "outputs": [
    {
     "data": {
      "text/plain": [
       "'Walt goes on the run. Jesse is taken hostage. Marie convinces Skyler to tell Walter, Jr. the truth.'"
      ]
     },
     "execution_count": 47,
     "metadata": {},
     "output_type": "execute_result"
    }
   ],
   "source": [
    "df[df[\"Rating_IMDB\"]==10][\"Summary\"][59]\n",
    "# summary of most rated episode"
   ]
  },
  {
   "cell_type": "code",
   "execution_count": 62,
   "id": "7cdc5dbe",
   "metadata": {},
   "outputs": [
    {
     "data": {
      "text/html": [
       "<div>\n",
       "<style scoped>\n",
       "    .dataframe tbody tr th:only-of-type {\n",
       "        vertical-align: middle;\n",
       "    }\n",
       "\n",
       "    .dataframe tbody tr th {\n",
       "        vertical-align: top;\n",
       "    }\n",
       "\n",
       "    .dataframe thead th {\n",
       "        text-align: right;\n",
       "    }\n",
       "</style>\n",
       "<table border=\"1\" class=\"dataframe\">\n",
       "  <thead>\n",
       "    <tr style=\"text-align: right;\">\n",
       "      <th></th>\n",
       "      <th>U.S. viewers_million</th>\n",
       "    </tr>\n",
       "    <tr>\n",
       "      <th>Directed by</th>\n",
       "      <th></th>\n",
       "    </tr>\n",
       "  </thead>\n",
       "  <tbody>\n",
       "    <tr>\n",
       "      <th>Adam Bernstein</th>\n",
       "      <td>11.59</td>\n",
       "    </tr>\n",
       "    <tr>\n",
       "      <th>Bronwen Hughes</th>\n",
       "      <td>1.07</td>\n",
       "    </tr>\n",
       "    <tr>\n",
       "      <th>Bryan Cranston</th>\n",
       "      <td>9.53</td>\n",
       "    </tr>\n",
       "    <tr>\n",
       "      <th>Charles Haid</th>\n",
       "      <td>1.60</td>\n",
       "    </tr>\n",
       "    <tr>\n",
       "      <th>Colin Bucksey</th>\n",
       "      <td>6.42</td>\n",
       "    </tr>\n",
       "    <tr>\n",
       "      <th>David Slade</th>\n",
       "      <td>1.71</td>\n",
       "    </tr>\n",
       "    <tr>\n",
       "      <th>Félix Enríquez Alcalá</th>\n",
       "      <td>0.00</td>\n",
       "    </tr>\n",
       "    <tr>\n",
       "      <th>George Mastras</th>\n",
       "      <td>2.48</td>\n",
       "    </tr>\n",
       "    <tr>\n",
       "      <th>Jim McKay</th>\n",
       "      <td>1.09</td>\n",
       "    </tr>\n",
       "    <tr>\n",
       "      <th>Johan Renck</th>\n",
       "      <td>4.80</td>\n",
       "    </tr>\n",
       "    <tr>\n",
       "      <th>John Dahl</th>\n",
       "      <td>1.29</td>\n",
       "    </tr>\n",
       "    <tr>\n",
       "      <th>John Shiban</th>\n",
       "      <td>1.64</td>\n",
       "    </tr>\n",
       "    <tr>\n",
       "      <th>Michael Slovis</th>\n",
       "      <td>11.06</td>\n",
       "    </tr>\n",
       "    <tr>\n",
       "      <th>Michelle MacLaren</th>\n",
       "      <td>24.64</td>\n",
       "    </tr>\n",
       "    <tr>\n",
       "      <th>Peter Gould</th>\n",
       "      <td>8.49</td>\n",
       "    </tr>\n",
       "    <tr>\n",
       "      <th>Peter Medak</th>\n",
       "      <td>1.41</td>\n",
       "    </tr>\n",
       "    <tr>\n",
       "      <th>Phil Abraham</th>\n",
       "      <td>0.00</td>\n",
       "    </tr>\n",
       "    <tr>\n",
       "      <th>Rian Johnson</th>\n",
       "      <td>9.86</td>\n",
       "    </tr>\n",
       "    <tr>\n",
       "      <th>Sam Catlin</th>\n",
       "      <td>4.41</td>\n",
       "    </tr>\n",
       "    <tr>\n",
       "      <th>Scott Winant</th>\n",
       "      <td>3.01</td>\n",
       "    </tr>\n",
       "    <tr>\n",
       "      <th>Terry McDonough</th>\n",
       "      <td>4.06</td>\n",
       "    </tr>\n",
       "    <tr>\n",
       "      <th>Thomas Schnauz</th>\n",
       "      <td>2.98</td>\n",
       "    </tr>\n",
       "    <tr>\n",
       "      <th>Tim Hunter</th>\n",
       "      <td>1.50</td>\n",
       "    </tr>\n",
       "    <tr>\n",
       "      <th>Tricia Brock</th>\n",
       "      <td>0.97</td>\n",
       "    </tr>\n",
       "    <tr>\n",
       "      <th>Vince Gilligan</th>\n",
       "      <td>16.88</td>\n",
       "    </tr>\n",
       "  </tbody>\n",
       "</table>\n",
       "</div>"
      ],
      "text/plain": [
       "                       U.S. viewers_million\n",
       "Directed by                                \n",
       "Adam Bernstein                        11.59\n",
       "Bronwen Hughes                         1.07\n",
       "Bryan Cranston                         9.53\n",
       "Charles Haid                           1.60\n",
       "Colin Bucksey                          6.42\n",
       "David Slade                            1.71\n",
       "Félix Enríquez Alcalá                  0.00\n",
       "George Mastras                         2.48\n",
       "Jim McKay                              1.09\n",
       "Johan Renck                            4.80\n",
       "John Dahl                              1.29\n",
       "John Shiban                            1.64\n",
       "Michael Slovis                        11.06\n",
       "Michelle MacLaren                     24.64\n",
       "Peter Gould                            8.49\n",
       "Peter Medak                            1.41\n",
       "Phil Abraham                           0.00\n",
       "Rian Johnson                           9.86\n",
       "Sam Catlin                             4.41\n",
       "Scott Winant                           3.01\n",
       "Terry McDonough                        4.06\n",
       "Thomas Schnauz                         2.98\n",
       "Tim Hunter                             1.50\n",
       "Tricia Brock                           0.97\n",
       "Vince Gilligan                        16.88"
      ]
     },
     "execution_count": 62,
     "metadata": {},
     "output_type": "execute_result"
    }
   ],
   "source": [
    "df[[\"U.S. viewers_million\",\"Directed by\"]].groupby(\"Directed by\").sum()\n",
    "#we can check the total viewers according to the directors"
   ]
  },
  {
   "cell_type": "code",
   "execution_count": null,
   "id": "75fe7da3",
   "metadata": {},
   "outputs": [],
   "source": []
  },
  {
   "cell_type": "code",
   "execution_count": 48,
   "id": "37ddad84",
   "metadata": {
    "scrolled": true
   },
   "outputs": [
    {
     "data": {
      "text/html": [
       "<div>\n",
       "<style scoped>\n",
       "    .dataframe tbody tr th:only-of-type {\n",
       "        vertical-align: middle;\n",
       "    }\n",
       "\n",
       "    .dataframe tbody tr th {\n",
       "        vertical-align: top;\n",
       "    }\n",
       "\n",
       "    .dataframe thead th {\n",
       "        text-align: right;\n",
       "    }\n",
       "</style>\n",
       "<table border=\"1\" class=\"dataframe\">\n",
       "  <thead>\n",
       "    <tr style=\"text-align: right;\">\n",
       "      <th></th>\n",
       "      <th>count</th>\n",
       "      <th>mean</th>\n",
       "      <th>std</th>\n",
       "      <th>min</th>\n",
       "      <th>25%</th>\n",
       "      <th>50%</th>\n",
       "      <th>75%</th>\n",
       "      <th>max</th>\n",
       "    </tr>\n",
       "  </thead>\n",
       "  <tbody>\n",
       "    <tr>\n",
       "      <th>Season</th>\n",
       "      <td>62.0</td>\n",
       "      <td>3.290323</td>\n",
       "      <td>1.359690</td>\n",
       "      <td>1.00</td>\n",
       "      <td>2.00</td>\n",
       "      <td>3.00</td>\n",
       "      <td>4.75</td>\n",
       "      <td>5.00</td>\n",
       "    </tr>\n",
       "    <tr>\n",
       "      <th>Episode</th>\n",
       "      <td>62.0</td>\n",
       "      <td>7.048387</td>\n",
       "      <td>4.074822</td>\n",
       "      <td>1.00</td>\n",
       "      <td>4.00</td>\n",
       "      <td>7.00</td>\n",
       "      <td>10.00</td>\n",
       "      <td>16.00</td>\n",
       "    </tr>\n",
       "    <tr>\n",
       "      <th>Duration_mins</th>\n",
       "      <td>62.0</td>\n",
       "      <td>47.919355</td>\n",
       "      <td>2.632074</td>\n",
       "      <td>43.00</td>\n",
       "      <td>47.00</td>\n",
       "      <td>47.00</td>\n",
       "      <td>48.00</td>\n",
       "      <td>60.00</td>\n",
       "    </tr>\n",
       "    <tr>\n",
       "      <th>Rating_IMDB</th>\n",
       "      <td>62.0</td>\n",
       "      <td>9.022581</td>\n",
       "      <td>0.511962</td>\n",
       "      <td>7.80</td>\n",
       "      <td>8.70</td>\n",
       "      <td>8.90</td>\n",
       "      <td>9.45</td>\n",
       "      <td>10.00</td>\n",
       "    </tr>\n",
       "    <tr>\n",
       "      <th>U.S. viewers_million</th>\n",
       "      <td>57.0</td>\n",
       "      <td>2.324386</td>\n",
       "      <td>1.719224</td>\n",
       "      <td>0.97</td>\n",
       "      <td>1.46</td>\n",
       "      <td>1.71</td>\n",
       "      <td>2.29</td>\n",
       "      <td>10.28</td>\n",
       "    </tr>\n",
       "  </tbody>\n",
       "</table>\n",
       "</div>"
      ],
      "text/plain": [
       "                      count       mean       std    min    25%    50%    75%  \\\n",
       "Season                 62.0   3.290323  1.359690   1.00   2.00   3.00   4.75   \n",
       "Episode                62.0   7.048387  4.074822   1.00   4.00   7.00  10.00   \n",
       "Duration_mins          62.0  47.919355  2.632074  43.00  47.00  47.00  48.00   \n",
       "Rating_IMDB            62.0   9.022581  0.511962   7.80   8.70   8.90   9.45   \n",
       "U.S. viewers_million   57.0   2.324386  1.719224   0.97   1.46   1.71   2.29   \n",
       "\n",
       "                        max  \n",
       "Season                 5.00  \n",
       "Episode               16.00  \n",
       "Duration_mins         60.00  \n",
       "Rating_IMDB           10.00  \n",
       "U.S. viewers_million  10.28  "
      ]
     },
     "execution_count": 48,
     "metadata": {},
     "output_type": "execute_result"
    }
   ],
   "source": [
    "df.describe().T"
   ]
  },
  {
   "cell_type": "code",
   "execution_count": 75,
   "id": "550b10d4",
   "metadata": {},
   "outputs": [
    {
     "data": {
      "text/plain": [
       "<Axes: xlabel='Season', ylabel='U.S. viewers_million'>"
      ]
     },
     "execution_count": 75,
     "metadata": {},
     "output_type": "execute_result"
    },
    {
     "data": {
      "image/png": "[encoded data removed]",
      "text/plain": [
       "<Figure size 640x480 with 1 Axes>"
      ]
     },
     "metadata": {},
     "output_type": "display_data"
    }
   ],
   "source": [
    "sns.boxplot(x=\"Season\",y=\"U.S. viewers_million\",data=df)\n",
    "#plotting season against viewers so as to understand the variation"
   ]
  },
  {
   "cell_type": "code",
   "execution_count": 77,
   "id": "4cd6e5f9",
   "metadata": {},
   "outputs": [
    {
     "data": {
      "text/plain": [
       "<Axes: xlabel='Season', ylabel='Rating_IMDB'>"
      ]
     },
     "execution_count": 77,
     "metadata": {},
     "output_type": "execute_result"
    },
    {
     "data": {
      "image/png": "[encoded data removed]",
      "text/plain": [
       "<Figure size 640x480 with 1 Axes>"
      ]
     },
     "metadata": {},
     "output_type": "display_data"
    }
   ],
   "source": [
    "sns.boxplot(x=\"Season\",y=\"Rating_IMDB\",data=df)\n",
    "#ploting season with rating"
   ]
  },
  {
   "cell_type": "code",
   "execution_count": 78,
   "id": "99cdc740",
   "metadata": {},
   "outputs": [
    {
     "data": {
      "text/plain": [
       "<Axes: xlabel='Season', ylabel='Rating_IMDB'>"
      ]
     },
     "execution_count": 78,
     "metadata": {},
     "output_type": "execute_result"
    },
    {
     "data": {
      "image/png": "[encoded data removed]",
      "text/plain": [
       "<Figure size 640x480 with 1 Axes>"
      ]
     },
     "metadata": {},
     "output_type": "display_data"
    }
   ],
   "source": [
    "sns.barplot(x=\"Season\",y=\"Rating_IMDB\",data=df)"
   ]
  },
  {
   "cell_type": "code",
   "execution_count": 79,
   "id": "d1ca71af",
   "metadata": {},
   "outputs": [
    {
     "data": {
      "text/plain": [
       "<Axes: xlabel='Season', ylabel='Episode'>"
      ]
     },
     "execution_count": 79,
     "metadata": {},
     "output_type": "execute_result"
    },
    {
     "data": {
      "image/png": "[encoded data removed]",
      "text/plain": [
       "<Figure size 640x480 with 1 Axes>"
      ]
     },
     "metadata": {},
     "output_type": "display_data"
    }
   ],
   "source": [
    "sns.barplot(x=\"Season\",y=\"Episode\",data=df)"
   ]
  },
  {
   "cell_type": "code",
   "execution_count": 80,
   "id": "e0f0e02a",
   "metadata": {
    "scrolled": true
   },
   "outputs": [
    {
     "data": {
      "text/html": [
       "<div>\n",
       "<style scoped>\n",
       "    .dataframe tbody tr th:only-of-type {\n",
       "        vertical-align: middle;\n",
       "    }\n",
       "\n",
       "    .dataframe tbody tr th {\n",
       "        vertical-align: top;\n",
       "    }\n",
       "\n",
       "    .dataframe thead th {\n",
       "        text-align: right;\n",
       "    }\n",
       "</style>\n",
       "<table border=\"1\" class=\"dataframe\">\n",
       "  <thead>\n",
       "    <tr style=\"text-align: right;\">\n",
       "      <th></th>\n",
       "      <th>Season</th>\n",
       "      <th>Episode</th>\n",
       "      <th>Duration_mins</th>\n",
       "      <th>Rating_IMDB</th>\n",
       "      <th>U.S. viewers_million</th>\n",
       "    </tr>\n",
       "  </thead>\n",
       "  <tbody>\n",
       "    <tr>\n",
       "      <th>Season</th>\n",
       "      <td>1.000000</td>\n",
       "      <td>0.263719</td>\n",
       "      <td>0.061618</td>\n",
       "      <td>0.435525</td>\n",
       "      <td>0.617048</td>\n",
       "    </tr>\n",
       "    <tr>\n",
       "      <th>Episode</th>\n",
       "      <td>0.263719</td>\n",
       "      <td>1.000000</td>\n",
       "      <td>0.059981</td>\n",
       "      <td>0.555829</td>\n",
       "      <td>0.520130</td>\n",
       "    </tr>\n",
       "    <tr>\n",
       "      <th>Duration_mins</th>\n",
       "      <td>0.061618</td>\n",
       "      <td>0.059981</td>\n",
       "      <td>1.000000</td>\n",
       "      <td>0.088966</td>\n",
       "      <td>0.342615</td>\n",
       "    </tr>\n",
       "    <tr>\n",
       "      <th>Rating_IMDB</th>\n",
       "      <td>0.435525</td>\n",
       "      <td>0.555829</td>\n",
       "      <td>0.088966</td>\n",
       "      <td>1.000000</td>\n",
       "      <td>0.537575</td>\n",
       "    </tr>\n",
       "    <tr>\n",
       "      <th>U.S. viewers_million</th>\n",
       "      <td>0.617048</td>\n",
       "      <td>0.520130</td>\n",
       "      <td>0.342615</td>\n",
       "      <td>0.537575</td>\n",
       "      <td>1.000000</td>\n",
       "    </tr>\n",
       "  </tbody>\n",
       "</table>\n",
       "</div>"
      ],
      "text/plain": [
       "                        Season   Episode  Duration_mins  Rating_IMDB  \\\n",
       "Season                1.000000  0.263719       0.061618     0.435525   \n",
       "Episode               0.263719  1.000000       0.059981     0.555829   \n",
       "Duration_mins         0.061618  0.059981       1.000000     0.088966   \n",
       "Rating_IMDB           0.435525  0.555829       0.088966     1.000000   \n",
       "U.S. viewers_million  0.617048  0.520130       0.342615     0.537575   \n",
       "\n",
       "                      U.S. viewers_million  \n",
       "Season                            0.617048  \n",
       "Episode                           0.520130  \n",
       "Duration_mins                     0.342615  \n",
       "Rating_IMDB                       0.537575  \n",
       "U.S. viewers_million              1.000000  "
      ]
     },
     "execution_count": 80,
     "metadata": {},
     "output_type": "execute_result"
    }
   ],
   "source": [
    "df.corr()"
   ]
  },
  {
   "cell_type": "code",
   "execution_count": 81,
   "id": "25560e29",
   "metadata": {},
   "outputs": [],
   "source": [
    "# episode show small +ve relation to viewers and rating that is when episode incresead viewers and rating also increasing\n",
    "# rating shows small +ve relation to season episode and viewers"
   ]
  },
  {
   "cell_type": "code",
   "execution_count": 82,
   "id": "8c1b93bb",
   "metadata": {},
   "outputs": [
    {
     "data": {
      "text/plain": [
       "<Axes: >"
      ]
     },
     "execution_count": 82,
     "metadata": {},
     "output_type": "execute_result"
    },
    {
     "data": {
      "image/png": "[encoded data removed]",
      "text/plain": [
       "<Figure size 640x480 with 2 Axes>"
      ]
     },
     "metadata": {},
     "output_type": "display_data"
    }
   ],
   "source": [
    "sns.heatmap(df.corr())"
   ]
  },
  {
   "cell_type": "code",
   "execution_count": null,
   "id": "44ba5edc",
   "metadata": {},
   "outputs": [],
   "source": []
  }
 ],
 "metadata": {
  "kernelspec": {
   "display_name": "Python 3 (ipykernel)",
   "language": "python",
   "name": "python3"
  },
  "language_info": {
   "codemirror_mode": {
    "name": "ipython",
    "version": 3
   },
   "file_extension": ".py",
   "mimetype": "text/x-python",
   "name": "python",
   "nbconvert_exporter": "python",
   "pygments_lexer": "ipython3",
   "version": "3.10.9"
  }
 },
 "nbformat": 4,
 "nbformat_minor": 5
}
